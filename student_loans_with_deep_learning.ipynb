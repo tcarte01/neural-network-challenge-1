{
  "cells": [
    {
      "cell_type": "markdown",
      "metadata": {
        "id": "T7ZNhGcW6q6r"
      },
      "source": [
        "# Student Loan Risk with Deep Learning"
      ]
    },
    {
      "cell_type": "markdown",
      "source": [],
      "metadata": {
        "id": "wVn2lI2tB80m"
      }
    },
    {
      "cell_type": "code",
      "execution_count": null,
      "metadata": {
        "id": "0otrXpJc6q6u"
      },
      "outputs": [],
      "source": [
        "# Imports\n",
        "import pandas as pd\n",
        "import tensorflow as tf\n",
        "from tensorflow.keras.layers import Dense\n",
        "from tensorflow.keras.models import Sequential\n",
        "from sklearn.model_selection import train_test_split\n",
        "from sklearn.preprocessing import StandardScaler\n",
        "from sklearn.metrics import classification_report\n",
        "from pathlib import Path"
      ]
    },
    {
      "cell_type": "markdown",
      "metadata": {
        "id": "OpV4Y-3Z6q6w"
      },
      "source": [
        "---\n",
        "\n",
        "## Prepare the data to be used on a neural network model"
      ]
    },
    {
      "cell_type": "markdown",
      "metadata": {
        "id": "TUuSzp2l6q6w"
      },
      "source": [
        "### Step 1: Read the `student-loans.csv` file into a Pandas DataFrame. Review the DataFrame, looking for columns that could eventually define your features and target variables.   "
      ]
    },
    {
      "cell_type": "code",
      "execution_count": null,
      "metadata": {
        "colab": {
          "base_uri": "https://localhost:8080/",
          "height": 226
        },
        "id": "G65km1KD6q6x",
        "outputId": "49c6ac18-bf08-4e7c-df24-10e6d111bb82"
      },
      "outputs": [
        {
          "output_type": "execute_result",
          "data": {
            "text/plain": [
              "   payment_history  location_parameter  stem_degree_score  gpa_ranking  \\\n",
              "0              7.4                0.70               0.00          1.9   \n",
              "1              7.8                0.88               0.00          2.6   \n",
              "2              7.8                0.76               0.04          2.3   \n",
              "3             11.2                0.28               0.56          1.9   \n",
              "4              7.4                0.70               0.00          1.9   \n",
              "\n",
              "   alumni_success  study_major_code  time_to_completion  \\\n",
              "0           0.076              11.0                34.0   \n",
              "1           0.098              25.0                67.0   \n",
              "2           0.092              15.0                54.0   \n",
              "3           0.075              17.0                60.0   \n",
              "4           0.076              11.0                34.0   \n",
              "\n",
              "   finance_workshop_score  cohort_ranking  total_loan_score  \\\n",
              "0                  0.9978            3.51              0.56   \n",
              "1                  0.9968            3.20              0.68   \n",
              "2                  0.9970            3.26              0.65   \n",
              "3                  0.9980            3.16              0.58   \n",
              "4                  0.9978            3.51              0.56   \n",
              "\n",
              "   financial_aid_score  credit_ranking  \n",
              "0                  9.4               0  \n",
              "1                  9.8               0  \n",
              "2                  9.8               0  \n",
              "3                  9.8               1  \n",
              "4                  9.4               0  "
            ],
            "text/html": [
              "\n",
              "  <div id=\"df-fc9d7b2e-51a7-48da-9660-448380c01d65\" class=\"colab-df-container\">\n",
              "    <div>\n",
              "<style scoped>\n",
              "    .dataframe tbody tr th:only-of-type {\n",
              "        vertical-align: middle;\n",
              "    }\n",
              "\n",
              "    .dataframe tbody tr th {\n",
              "        vertical-align: top;\n",
              "    }\n",
              "\n",
              "    .dataframe thead th {\n",
              "        text-align: right;\n",
              "    }\n",
              "</style>\n",
              "<table border=\"1\" class=\"dataframe\">\n",
              "  <thead>\n",
              "    <tr style=\"text-align: right;\">\n",
              "      <th></th>\n",
              "      <th>payment_history</th>\n",
              "      <th>location_parameter</th>\n",
              "      <th>stem_degree_score</th>\n",
              "      <th>gpa_ranking</th>\n",
              "      <th>alumni_success</th>\n",
              "      <th>study_major_code</th>\n",
              "      <th>time_to_completion</th>\n",
              "      <th>finance_workshop_score</th>\n",
              "      <th>cohort_ranking</th>\n",
              "      <th>total_loan_score</th>\n",
              "      <th>financial_aid_score</th>\n",
              "      <th>credit_ranking</th>\n",
              "    </tr>\n",
              "  </thead>\n",
              "  <tbody>\n",
              "    <tr>\n",
              "      <th>0</th>\n",
              "      <td>7.4</td>\n",
              "      <td>0.70</td>\n",
              "      <td>0.00</td>\n",
              "      <td>1.9</td>\n",
              "      <td>0.076</td>\n",
              "      <td>11.0</td>\n",
              "      <td>34.0</td>\n",
              "      <td>0.9978</td>\n",
              "      <td>3.51</td>\n",
              "      <td>0.56</td>\n",
              "      <td>9.4</td>\n",
              "      <td>0</td>\n",
              "    </tr>\n",
              "    <tr>\n",
              "      <th>1</th>\n",
              "      <td>7.8</td>\n",
              "      <td>0.88</td>\n",
              "      <td>0.00</td>\n",
              "      <td>2.6</td>\n",
              "      <td>0.098</td>\n",
              "      <td>25.0</td>\n",
              "      <td>67.0</td>\n",
              "      <td>0.9968</td>\n",
              "      <td>3.20</td>\n",
              "      <td>0.68</td>\n",
              "      <td>9.8</td>\n",
              "      <td>0</td>\n",
              "    </tr>\n",
              "    <tr>\n",
              "      <th>2</th>\n",
              "      <td>7.8</td>\n",
              "      <td>0.76</td>\n",
              "      <td>0.04</td>\n",
              "      <td>2.3</td>\n",
              "      <td>0.092</td>\n",
              "      <td>15.0</td>\n",
              "      <td>54.0</td>\n",
              "      <td>0.9970</td>\n",
              "      <td>3.26</td>\n",
              "      <td>0.65</td>\n",
              "      <td>9.8</td>\n",
              "      <td>0</td>\n",
              "    </tr>\n",
              "    <tr>\n",
              "      <th>3</th>\n",
              "      <td>11.2</td>\n",
              "      <td>0.28</td>\n",
              "      <td>0.56</td>\n",
              "      <td>1.9</td>\n",
              "      <td>0.075</td>\n",
              "      <td>17.0</td>\n",
              "      <td>60.0</td>\n",
              "      <td>0.9980</td>\n",
              "      <td>3.16</td>\n",
              "      <td>0.58</td>\n",
              "      <td>9.8</td>\n",
              "      <td>1</td>\n",
              "    </tr>\n",
              "    <tr>\n",
              "      <th>4</th>\n",
              "      <td>7.4</td>\n",
              "      <td>0.70</td>\n",
              "      <td>0.00</td>\n",
              "      <td>1.9</td>\n",
              "      <td>0.076</td>\n",
              "      <td>11.0</td>\n",
              "      <td>34.0</td>\n",
              "      <td>0.9978</td>\n",
              "      <td>3.51</td>\n",
              "      <td>0.56</td>\n",
              "      <td>9.4</td>\n",
              "      <td>0</td>\n",
              "    </tr>\n",
              "  </tbody>\n",
              "</table>\n",
              "</div>\n",
              "    <div class=\"colab-df-buttons\">\n",
              "\n",
              "  <div class=\"colab-df-container\">\n",
              "    <button class=\"colab-df-convert\" onclick=\"convertToInteractive('df-fc9d7b2e-51a7-48da-9660-448380c01d65')\"\n",
              "            title=\"Convert this dataframe to an interactive table.\"\n",
              "            style=\"display:none;\">\n",
              "\n",
              "  <svg xmlns=\"http://www.w3.org/2000/svg\" height=\"24px\" viewBox=\"0 -960 960 960\">\n",
              "    <path d=\"M120-120v-720h720v720H120Zm60-500h600v-160H180v160Zm220 220h160v-160H400v160Zm0 220h160v-160H400v160ZM180-400h160v-160H180v160Zm440 0h160v-160H620v160ZM180-180h160v-160H180v160Zm440 0h160v-160H620v160Z\"/>\n",
              "  </svg>\n",
              "    </button>\n",
              "\n",
              "  <style>\n",
              "    .colab-df-container {\n",
              "      display:flex;\n",
              "      gap: 12px;\n",
              "    }\n",
              "\n",
              "    .colab-df-convert {\n",
              "      background-color: #E8F0FE;\n",
              "      border: none;\n",
              "      border-radius: 50%;\n",
              "      cursor: pointer;\n",
              "      display: none;\n",
              "      fill: #1967D2;\n",
              "      height: 32px;\n",
              "      padding: 0 0 0 0;\n",
              "      width: 32px;\n",
              "    }\n",
              "\n",
              "    .colab-df-convert:hover {\n",
              "      background-color: #E2EBFA;\n",
              "      box-shadow: 0px 1px 2px rgba(60, 64, 67, 0.3), 0px 1px 3px 1px rgba(60, 64, 67, 0.15);\n",
              "      fill: #174EA6;\n",
              "    }\n",
              "\n",
              "    .colab-df-buttons div {\n",
              "      margin-bottom: 4px;\n",
              "    }\n",
              "\n",
              "    [theme=dark] .colab-df-convert {\n",
              "      background-color: #3B4455;\n",
              "      fill: #D2E3FC;\n",
              "    }\n",
              "\n",
              "    [theme=dark] .colab-df-convert:hover {\n",
              "      background-color: #434B5C;\n",
              "      box-shadow: 0px 1px 3px 1px rgba(0, 0, 0, 0.15);\n",
              "      filter: drop-shadow(0px 1px 2px rgba(0, 0, 0, 0.3));\n",
              "      fill: #FFFFFF;\n",
              "    }\n",
              "  </style>\n",
              "\n",
              "    <script>\n",
              "      const buttonEl =\n",
              "        document.querySelector('#df-fc9d7b2e-51a7-48da-9660-448380c01d65 button.colab-df-convert');\n",
              "      buttonEl.style.display =\n",
              "        google.colab.kernel.accessAllowed ? 'block' : 'none';\n",
              "\n",
              "      async function convertToInteractive(key) {\n",
              "        const element = document.querySelector('#df-fc9d7b2e-51a7-48da-9660-448380c01d65');\n",
              "        const dataTable =\n",
              "          await google.colab.kernel.invokeFunction('convertToInteractive',\n",
              "                                                    [key], {});\n",
              "        if (!dataTable) return;\n",
              "\n",
              "        const docLinkHtml = 'Like what you see? Visit the ' +\n",
              "          '<a target=\"_blank\" href=https://colab.research.google.com/notebooks/data_table.ipynb>data table notebook</a>'\n",
              "          + ' to learn more about interactive tables.';\n",
              "        element.innerHTML = '';\n",
              "        dataTable['output_type'] = 'display_data';\n",
              "        await google.colab.output.renderOutput(dataTable, element);\n",
              "        const docLink = document.createElement('div');\n",
              "        docLink.innerHTML = docLinkHtml;\n",
              "        element.appendChild(docLink);\n",
              "      }\n",
              "    </script>\n",
              "  </div>\n",
              "\n",
              "\n",
              "<div id=\"df-d6b882fe-ce85-4a31-b17a-6bb8d85a97ae\">\n",
              "  <button class=\"colab-df-quickchart\" onclick=\"quickchart('df-d6b882fe-ce85-4a31-b17a-6bb8d85a97ae')\"\n",
              "            title=\"Suggest charts\"\n",
              "            style=\"display:none;\">\n",
              "\n",
              "<svg xmlns=\"http://www.w3.org/2000/svg\" height=\"24px\"viewBox=\"0 0 24 24\"\n",
              "     width=\"24px\">\n",
              "    <g>\n",
              "        <path d=\"M19 3H5c-1.1 0-2 .9-2 2v14c0 1.1.9 2 2 2h14c1.1 0 2-.9 2-2V5c0-1.1-.9-2-2-2zM9 17H7v-7h2v7zm4 0h-2V7h2v10zm4 0h-2v-4h2v4z\"/>\n",
              "    </g>\n",
              "</svg>\n",
              "  </button>\n",
              "\n",
              "<style>\n",
              "  .colab-df-quickchart {\n",
              "      --bg-color: #E8F0FE;\n",
              "      --fill-color: #1967D2;\n",
              "      --hover-bg-color: #E2EBFA;\n",
              "      --hover-fill-color: #174EA6;\n",
              "      --disabled-fill-color: #AAA;\n",
              "      --disabled-bg-color: #DDD;\n",
              "  }\n",
              "\n",
              "  [theme=dark] .colab-df-quickchart {\n",
              "      --bg-color: #3B4455;\n",
              "      --fill-color: #D2E3FC;\n",
              "      --hover-bg-color: #434B5C;\n",
              "      --hover-fill-color: #FFFFFF;\n",
              "      --disabled-bg-color: #3B4455;\n",
              "      --disabled-fill-color: #666;\n",
              "  }\n",
              "\n",
              "  .colab-df-quickchart {\n",
              "    background-color: var(--bg-color);\n",
              "    border: none;\n",
              "    border-radius: 50%;\n",
              "    cursor: pointer;\n",
              "    display: none;\n",
              "    fill: var(--fill-color);\n",
              "    height: 32px;\n",
              "    padding: 0;\n",
              "    width: 32px;\n",
              "  }\n",
              "\n",
              "  .colab-df-quickchart:hover {\n",
              "    background-color: var(--hover-bg-color);\n",
              "    box-shadow: 0 1px 2px rgba(60, 64, 67, 0.3), 0 1px 3px 1px rgba(60, 64, 67, 0.15);\n",
              "    fill: var(--button-hover-fill-color);\n",
              "  }\n",
              "\n",
              "  .colab-df-quickchart-complete:disabled,\n",
              "  .colab-df-quickchart-complete:disabled:hover {\n",
              "    background-color: var(--disabled-bg-color);\n",
              "    fill: var(--disabled-fill-color);\n",
              "    box-shadow: none;\n",
              "  }\n",
              "\n",
              "  .colab-df-spinner {\n",
              "    border: 2px solid var(--fill-color);\n",
              "    border-color: transparent;\n",
              "    border-bottom-color: var(--fill-color);\n",
              "    animation:\n",
              "      spin 1s steps(1) infinite;\n",
              "  }\n",
              "\n",
              "  @keyframes spin {\n",
              "    0% {\n",
              "      border-color: transparent;\n",
              "      border-bottom-color: var(--fill-color);\n",
              "      border-left-color: var(--fill-color);\n",
              "    }\n",
              "    20% {\n",
              "      border-color: transparent;\n",
              "      border-left-color: var(--fill-color);\n",
              "      border-top-color: var(--fill-color);\n",
              "    }\n",
              "    30% {\n",
              "      border-color: transparent;\n",
              "      border-left-color: var(--fill-color);\n",
              "      border-top-color: var(--fill-color);\n",
              "      border-right-color: var(--fill-color);\n",
              "    }\n",
              "    40% {\n",
              "      border-color: transparent;\n",
              "      border-right-color: var(--fill-color);\n",
              "      border-top-color: var(--fill-color);\n",
              "    }\n",
              "    60% {\n",
              "      border-color: transparent;\n",
              "      border-right-color: var(--fill-color);\n",
              "    }\n",
              "    80% {\n",
              "      border-color: transparent;\n",
              "      border-right-color: var(--fill-color);\n",
              "      border-bottom-color: var(--fill-color);\n",
              "    }\n",
              "    90% {\n",
              "      border-color: transparent;\n",
              "      border-bottom-color: var(--fill-color);\n",
              "    }\n",
              "  }\n",
              "</style>\n",
              "\n",
              "  <script>\n",
              "    async function quickchart(key) {\n",
              "      const quickchartButtonEl =\n",
              "        document.querySelector('#' + key + ' button');\n",
              "      quickchartButtonEl.disabled = true;  // To prevent multiple clicks.\n",
              "      quickchartButtonEl.classList.add('colab-df-spinner');\n",
              "      try {\n",
              "        const charts = await google.colab.kernel.invokeFunction(\n",
              "            'suggestCharts', [key], {});\n",
              "      } catch (error) {\n",
              "        console.error('Error during call to suggestCharts:', error);\n",
              "      }\n",
              "      quickchartButtonEl.classList.remove('colab-df-spinner');\n",
              "      quickchartButtonEl.classList.add('colab-df-quickchart-complete');\n",
              "    }\n",
              "    (() => {\n",
              "      let quickchartButtonEl =\n",
              "        document.querySelector('#df-d6b882fe-ce85-4a31-b17a-6bb8d85a97ae button');\n",
              "      quickchartButtonEl.style.display =\n",
              "        google.colab.kernel.accessAllowed ? 'block' : 'none';\n",
              "    })();\n",
              "  </script>\n",
              "</div>\n",
              "\n",
              "    </div>\n",
              "  </div>\n"
            ],
            "application/vnd.google.colaboratory.intrinsic+json": {
              "type": "dataframe",
              "variable_name": "loans_df",
              "summary": "{\n  \"name\": \"loans_df\",\n  \"rows\": 1599,\n  \"fields\": [\n    {\n      \"column\": \"payment_history\",\n      \"properties\": {\n        \"dtype\": \"number\",\n        \"std\": 1.7410963181276953,\n        \"min\": 4.6,\n        \"max\": 15.9,\n        \"num_unique_values\": 96,\n        \"samples\": [\n          5.3,\n          12.7,\n          12.6\n        ],\n        \"semantic_type\": \"\",\n        \"description\": \"\"\n      }\n    },\n    {\n      \"column\": \"location_parameter\",\n      \"properties\": {\n        \"dtype\": \"number\",\n        \"std\": 0.17905970415353537,\n        \"min\": 0.12,\n        \"max\": 1.58,\n        \"num_unique_values\": 143,\n        \"samples\": [\n          1.025,\n          0.4,\n          0.87\n        ],\n        \"semantic_type\": \"\",\n        \"description\": \"\"\n      }\n    },\n    {\n      \"column\": \"stem_degree_score\",\n      \"properties\": {\n        \"dtype\": \"number\",\n        \"std\": 0.19480113740531857,\n        \"min\": 0.0,\n        \"max\": 1.0,\n        \"num_unique_values\": 80,\n        \"samples\": [\n          0.37,\n          0.0,\n          0.09\n        ],\n        \"semantic_type\": \"\",\n        \"description\": \"\"\n      }\n    },\n    {\n      \"column\": \"gpa_ranking\",\n      \"properties\": {\n        \"dtype\": \"number\",\n        \"std\": 1.4099280595072798,\n        \"min\": 0.9,\n        \"max\": 15.5,\n        \"num_unique_values\": 91,\n        \"samples\": [\n          11.0,\n          3.0,\n          15.5\n        ],\n        \"semantic_type\": \"\",\n        \"description\": \"\"\n      }\n    },\n    {\n      \"column\": \"alumni_success\",\n      \"properties\": {\n        \"dtype\": \"number\",\n        \"std\": 0.0470653020100901,\n        \"min\": 0.012,\n        \"max\": 0.611,\n        \"num_unique_values\": 153,\n        \"samples\": [\n          0.096,\n          0.343,\n          0.159\n        ],\n        \"semantic_type\": \"\",\n        \"description\": \"\"\n      }\n    },\n    {\n      \"column\": \"study_major_code\",\n      \"properties\": {\n        \"dtype\": \"number\",\n        \"std\": 10.460156969809725,\n        \"min\": 1.0,\n        \"max\": 72.0,\n        \"num_unique_values\": 60,\n        \"samples\": [\n          11.0,\n          9.0,\n          32.0\n        ],\n        \"semantic_type\": \"\",\n        \"description\": \"\"\n      }\n    },\n    {\n      \"column\": \"time_to_completion\",\n      \"properties\": {\n        \"dtype\": \"number\",\n        \"std\": 32.895324478299074,\n        \"min\": 6.0,\n        \"max\": 289.0,\n        \"num_unique_values\": 144,\n        \"samples\": [\n          68.0,\n          35.0,\n          101.0\n        ],\n        \"semantic_type\": \"\",\n        \"description\": \"\"\n      }\n    },\n    {\n      \"column\": \"finance_workshop_score\",\n      \"properties\": {\n        \"dtype\": \"number\",\n        \"std\": 0.0018873339538425554,\n        \"min\": 0.99007,\n        \"max\": 1.00369,\n        \"num_unique_values\": 436,\n        \"samples\": [\n          0.99974,\n          1.0001,\n          0.99471\n        ],\n        \"semantic_type\": \"\",\n        \"description\": \"\"\n      }\n    },\n    {\n      \"column\": \"cohort_ranking\",\n      \"properties\": {\n        \"dtype\": \"number\",\n        \"std\": 0.15438646490354277,\n        \"min\": 2.74,\n        \"max\": 4.01,\n        \"num_unique_values\": 89,\n        \"samples\": [\n          3.07,\n          3.0,\n          3.15\n        ],\n        \"semantic_type\": \"\",\n        \"description\": \"\"\n      }\n    },\n    {\n      \"column\": \"total_loan_score\",\n      \"properties\": {\n        \"dtype\": \"number\",\n        \"std\": 0.16950697959010996,\n        \"min\": 0.33,\n        \"max\": 2.0,\n        \"num_unique_values\": 96,\n        \"samples\": [\n          1.07,\n          1.04,\n          1.18\n        ],\n        \"semantic_type\": \"\",\n        \"description\": \"\"\n      }\n    },\n    {\n      \"column\": \"financial_aid_score\",\n      \"properties\": {\n        \"dtype\": \"number\",\n        \"std\": 1.0656675818563988,\n        \"min\": 8.4,\n        \"max\": 14.9,\n        \"num_unique_values\": 65,\n        \"samples\": [\n          8.5,\n          9.95,\n          9.4\n        ],\n        \"semantic_type\": \"\",\n        \"description\": \"\"\n      }\n    },\n    {\n      \"column\": \"credit_ranking\",\n      \"properties\": {\n        \"dtype\": \"number\",\n        \"std\": 0,\n        \"min\": 0,\n        \"max\": 1,\n        \"num_unique_values\": 2,\n        \"samples\": [\n          1,\n          0\n        ],\n        \"semantic_type\": \"\",\n        \"description\": \"\"\n      }\n    }\n  ]\n}"
            }
          },
          "metadata": {},
          "execution_count": 2
        }
      ],
      "source": [
        "# Read the csv into a Pandas DataFrame\n",
        "file_path = \"https://static.bc-edx.com/ai/ail-v-1-0/m18/lms/datasets/student-loans.csv\"\n",
        "loans_df = pd.read_csv(file_path)\n",
        "\n",
        "# Review the DataFrame\n",
        "loans_df.head()"
      ]
    },
    {
      "cell_type": "code",
      "execution_count": null,
      "metadata": {
        "colab": {
          "base_uri": "https://localhost:8080/"
        },
        "id": "K8ZYB8wx6q6x",
        "outputId": "d8e4dd62-2335-4424-9d4f-6112b9e4de14"
      },
      "outputs": [
        {
          "output_type": "execute_result",
          "data": {
            "text/plain": [
              "payment_history           float64\n",
              "location_parameter        float64\n",
              "stem_degree_score         float64\n",
              "gpa_ranking               float64\n",
              "alumni_success            float64\n",
              "study_major_code          float64\n",
              "time_to_completion        float64\n",
              "finance_workshop_score    float64\n",
              "cohort_ranking            float64\n",
              "total_loan_score          float64\n",
              "financial_aid_score       float64\n",
              "credit_ranking              int64\n",
              "dtype: object"
            ]
          },
          "metadata": {},
          "execution_count": 3
        }
      ],
      "source": [
        "# Review the data types associated with the columns\n",
        "loans_df.dtypes"
      ]
    },
    {
      "cell_type": "code",
      "execution_count": null,
      "metadata": {
        "colab": {
          "base_uri": "https://localhost:8080/"
        },
        "id": "9P8aX-dW75JO",
        "outputId": "82fc8e51-e5a4-472c-e893-27d046ea4568"
      },
      "outputs": [
        {
          "output_type": "execute_result",
          "data": {
            "text/plain": [
              "1    855\n",
              "0    744\n",
              "Name: credit_ranking, dtype: int64"
            ]
          },
          "metadata": {},
          "execution_count": 4
        }
      ],
      "source": [
        "# Check the credit_ranking value counts\n",
        "loans_df[\"credit_ranking\"].value_counts()"
      ]
    },
    {
      "cell_type": "markdown",
      "metadata": {
        "id": "R6vbZeDH6q6y"
      },
      "source": [
        "### Step 2: Using the preprocessed data, create the features (`X`) and target (`y`) datasets. The target dataset should be defined by the preprocessed DataFrame column “credit_ranking”. The remaining columns should define the features dataset."
      ]
    },
    {
      "cell_type": "code",
      "execution_count": null,
      "metadata": {
        "colab": {
          "base_uri": "https://localhost:8080/"
        },
        "id": "Q5eVAP5M6q6y",
        "outputId": "7d126daf-f646-453b-90ba-5bb3ddc4bd07"
      },
      "outputs": [
        {
          "output_type": "stream",
          "name": "stdout",
          "text": [
            "<PandasArray>\n",
            "[0, 0, 0, 1, 0]\n",
            "Length: 5, dtype: int64\n"
          ]
        }
      ],
      "source": [
        "# Define the target set y using the credit_ranking column\n",
        "y = loans_df['credit_ranking']\n",
        "\n",
        "# Display a sample of y\n",
        "print(y.array[:5])"
      ]
    },
    {
      "cell_type": "code",
      "execution_count": null,
      "metadata": {
        "colab": {
          "base_uri": "https://localhost:8080/",
          "height": 226
        },
        "id": "IIkrD2Sn6q6z",
        "outputId": "d80dcc1a-d8c8-4e30-c06b-7af9e24197d0"
      },
      "outputs": [
        {
          "output_type": "display_data",
          "data": {
            "text/plain": [
              "   payment_history  location_parameter  stem_degree_score  gpa_ranking  \\\n",
              "0              7.4                0.70               0.00          1.9   \n",
              "1              7.8                0.88               0.00          2.6   \n",
              "2              7.8                0.76               0.04          2.3   \n",
              "3             11.2                0.28               0.56          1.9   \n",
              "4              7.4                0.70               0.00          1.9   \n",
              "\n",
              "   alumni_success  study_major_code  time_to_completion  \\\n",
              "0           0.076              11.0                34.0   \n",
              "1           0.098              25.0                67.0   \n",
              "2           0.092              15.0                54.0   \n",
              "3           0.075              17.0                60.0   \n",
              "4           0.076              11.0                34.0   \n",
              "\n",
              "   finance_workshop_score  cohort_ranking  total_loan_score  \\\n",
              "0                  0.9978            3.51              0.56   \n",
              "1                  0.9968            3.20              0.68   \n",
              "2                  0.9970            3.26              0.65   \n",
              "3                  0.9980            3.16              0.58   \n",
              "4                  0.9978            3.51              0.56   \n",
              "\n",
              "   financial_aid_score  \n",
              "0                  9.4  \n",
              "1                  9.8  \n",
              "2                  9.8  \n",
              "3                  9.8  \n",
              "4                  9.4  "
            ],
            "text/html": [
              "\n",
              "  <div id=\"df-2933e3bf-fbe4-4673-adba-5c0fa277a107\" class=\"colab-df-container\">\n",
              "    <div>\n",
              "<style scoped>\n",
              "    .dataframe tbody tr th:only-of-type {\n",
              "        vertical-align: middle;\n",
              "    }\n",
              "\n",
              "    .dataframe tbody tr th {\n",
              "        vertical-align: top;\n",
              "    }\n",
              "\n",
              "    .dataframe thead th {\n",
              "        text-align: right;\n",
              "    }\n",
              "</style>\n",
              "<table border=\"1\" class=\"dataframe\">\n",
              "  <thead>\n",
              "    <tr style=\"text-align: right;\">\n",
              "      <th></th>\n",
              "      <th>payment_history</th>\n",
              "      <th>location_parameter</th>\n",
              "      <th>stem_degree_score</th>\n",
              "      <th>gpa_ranking</th>\n",
              "      <th>alumni_success</th>\n",
              "      <th>study_major_code</th>\n",
              "      <th>time_to_completion</th>\n",
              "      <th>finance_workshop_score</th>\n",
              "      <th>cohort_ranking</th>\n",
              "      <th>total_loan_score</th>\n",
              "      <th>financial_aid_score</th>\n",
              "    </tr>\n",
              "  </thead>\n",
              "  <tbody>\n",
              "    <tr>\n",
              "      <th>0</th>\n",
              "      <td>7.4</td>\n",
              "      <td>0.70</td>\n",
              "      <td>0.00</td>\n",
              "      <td>1.9</td>\n",
              "      <td>0.076</td>\n",
              "      <td>11.0</td>\n",
              "      <td>34.0</td>\n",
              "      <td>0.9978</td>\n",
              "      <td>3.51</td>\n",
              "      <td>0.56</td>\n",
              "      <td>9.4</td>\n",
              "    </tr>\n",
              "    <tr>\n",
              "      <th>1</th>\n",
              "      <td>7.8</td>\n",
              "      <td>0.88</td>\n",
              "      <td>0.00</td>\n",
              "      <td>2.6</td>\n",
              "      <td>0.098</td>\n",
              "      <td>25.0</td>\n",
              "      <td>67.0</td>\n",
              "      <td>0.9968</td>\n",
              "      <td>3.20</td>\n",
              "      <td>0.68</td>\n",
              "      <td>9.8</td>\n",
              "    </tr>\n",
              "    <tr>\n",
              "      <th>2</th>\n",
              "      <td>7.8</td>\n",
              "      <td>0.76</td>\n",
              "      <td>0.04</td>\n",
              "      <td>2.3</td>\n",
              "      <td>0.092</td>\n",
              "      <td>15.0</td>\n",
              "      <td>54.0</td>\n",
              "      <td>0.9970</td>\n",
              "      <td>3.26</td>\n",
              "      <td>0.65</td>\n",
              "      <td>9.8</td>\n",
              "    </tr>\n",
              "    <tr>\n",
              "      <th>3</th>\n",
              "      <td>11.2</td>\n",
              "      <td>0.28</td>\n",
              "      <td>0.56</td>\n",
              "      <td>1.9</td>\n",
              "      <td>0.075</td>\n",
              "      <td>17.0</td>\n",
              "      <td>60.0</td>\n",
              "      <td>0.9980</td>\n",
              "      <td>3.16</td>\n",
              "      <td>0.58</td>\n",
              "      <td>9.8</td>\n",
              "    </tr>\n",
              "    <tr>\n",
              "      <th>4</th>\n",
              "      <td>7.4</td>\n",
              "      <td>0.70</td>\n",
              "      <td>0.00</td>\n",
              "      <td>1.9</td>\n",
              "      <td>0.076</td>\n",
              "      <td>11.0</td>\n",
              "      <td>34.0</td>\n",
              "      <td>0.9978</td>\n",
              "      <td>3.51</td>\n",
              "      <td>0.56</td>\n",
              "      <td>9.4</td>\n",
              "    </tr>\n",
              "  </tbody>\n",
              "</table>\n",
              "</div>\n",
              "    <div class=\"colab-df-buttons\">\n",
              "\n",
              "  <div class=\"colab-df-container\">\n",
              "    <button class=\"colab-df-convert\" onclick=\"convertToInteractive('df-2933e3bf-fbe4-4673-adba-5c0fa277a107')\"\n",
              "            title=\"Convert this dataframe to an interactive table.\"\n",
              "            style=\"display:none;\">\n",
              "\n",
              "  <svg xmlns=\"http://www.w3.org/2000/svg\" height=\"24px\" viewBox=\"0 -960 960 960\">\n",
              "    <path d=\"M120-120v-720h720v720H120Zm60-500h600v-160H180v160Zm220 220h160v-160H400v160Zm0 220h160v-160H400v160ZM180-400h160v-160H180v160Zm440 0h160v-160H620v160ZM180-180h160v-160H180v160Zm440 0h160v-160H620v160Z\"/>\n",
              "  </svg>\n",
              "    </button>\n",
              "\n",
              "  <style>\n",
              "    .colab-df-container {\n",
              "      display:flex;\n",
              "      gap: 12px;\n",
              "    }\n",
              "\n",
              "    .colab-df-convert {\n",
              "      background-color: #E8F0FE;\n",
              "      border: none;\n",
              "      border-radius: 50%;\n",
              "      cursor: pointer;\n",
              "      display: none;\n",
              "      fill: #1967D2;\n",
              "      height: 32px;\n",
              "      padding: 0 0 0 0;\n",
              "      width: 32px;\n",
              "    }\n",
              "\n",
              "    .colab-df-convert:hover {\n",
              "      background-color: #E2EBFA;\n",
              "      box-shadow: 0px 1px 2px rgba(60, 64, 67, 0.3), 0px 1px 3px 1px rgba(60, 64, 67, 0.15);\n",
              "      fill: #174EA6;\n",
              "    }\n",
              "\n",
              "    .colab-df-buttons div {\n",
              "      margin-bottom: 4px;\n",
              "    }\n",
              "\n",
              "    [theme=dark] .colab-df-convert {\n",
              "      background-color: #3B4455;\n",
              "      fill: #D2E3FC;\n",
              "    }\n",
              "\n",
              "    [theme=dark] .colab-df-convert:hover {\n",
              "      background-color: #434B5C;\n",
              "      box-shadow: 0px 1px 3px 1px rgba(0, 0, 0, 0.15);\n",
              "      filter: drop-shadow(0px 1px 2px rgba(0, 0, 0, 0.3));\n",
              "      fill: #FFFFFF;\n",
              "    }\n",
              "  </style>\n",
              "\n",
              "    <script>\n",
              "      const buttonEl =\n",
              "        document.querySelector('#df-2933e3bf-fbe4-4673-adba-5c0fa277a107 button.colab-df-convert');\n",
              "      buttonEl.style.display =\n",
              "        google.colab.kernel.accessAllowed ? 'block' : 'none';\n",
              "\n",
              "      async function convertToInteractive(key) {\n",
              "        const element = document.querySelector('#df-2933e3bf-fbe4-4673-adba-5c0fa277a107');\n",
              "        const dataTable =\n",
              "          await google.colab.kernel.invokeFunction('convertToInteractive',\n",
              "                                                    [key], {});\n",
              "        if (!dataTable) return;\n",
              "\n",
              "        const docLinkHtml = 'Like what you see? Visit the ' +\n",
              "          '<a target=\"_blank\" href=https://colab.research.google.com/notebooks/data_table.ipynb>data table notebook</a>'\n",
              "          + ' to learn more about interactive tables.';\n",
              "        element.innerHTML = '';\n",
              "        dataTable['output_type'] = 'display_data';\n",
              "        await google.colab.output.renderOutput(dataTable, element);\n",
              "        const docLink = document.createElement('div');\n",
              "        docLink.innerHTML = docLinkHtml;\n",
              "        element.appendChild(docLink);\n",
              "      }\n",
              "    </script>\n",
              "  </div>\n",
              "\n",
              "\n",
              "<div id=\"df-1850167a-c753-41ab-ac25-893b2b60ea13\">\n",
              "  <button class=\"colab-df-quickchart\" onclick=\"quickchart('df-1850167a-c753-41ab-ac25-893b2b60ea13')\"\n",
              "            title=\"Suggest charts\"\n",
              "            style=\"display:none;\">\n",
              "\n",
              "<svg xmlns=\"http://www.w3.org/2000/svg\" height=\"24px\"viewBox=\"0 0 24 24\"\n",
              "     width=\"24px\">\n",
              "    <g>\n",
              "        <path d=\"M19 3H5c-1.1 0-2 .9-2 2v14c0 1.1.9 2 2 2h14c1.1 0 2-.9 2-2V5c0-1.1-.9-2-2-2zM9 17H7v-7h2v7zm4 0h-2V7h2v10zm4 0h-2v-4h2v4z\"/>\n",
              "    </g>\n",
              "</svg>\n",
              "  </button>\n",
              "\n",
              "<style>\n",
              "  .colab-df-quickchart {\n",
              "      --bg-color: #E8F0FE;\n",
              "      --fill-color: #1967D2;\n",
              "      --hover-bg-color: #E2EBFA;\n",
              "      --hover-fill-color: #174EA6;\n",
              "      --disabled-fill-color: #AAA;\n",
              "      --disabled-bg-color: #DDD;\n",
              "  }\n",
              "\n",
              "  [theme=dark] .colab-df-quickchart {\n",
              "      --bg-color: #3B4455;\n",
              "      --fill-color: #D2E3FC;\n",
              "      --hover-bg-color: #434B5C;\n",
              "      --hover-fill-color: #FFFFFF;\n",
              "      --disabled-bg-color: #3B4455;\n",
              "      --disabled-fill-color: #666;\n",
              "  }\n",
              "\n",
              "  .colab-df-quickchart {\n",
              "    background-color: var(--bg-color);\n",
              "    border: none;\n",
              "    border-radius: 50%;\n",
              "    cursor: pointer;\n",
              "    display: none;\n",
              "    fill: var(--fill-color);\n",
              "    height: 32px;\n",
              "    padding: 0;\n",
              "    width: 32px;\n",
              "  }\n",
              "\n",
              "  .colab-df-quickchart:hover {\n",
              "    background-color: var(--hover-bg-color);\n",
              "    box-shadow: 0 1px 2px rgba(60, 64, 67, 0.3), 0 1px 3px 1px rgba(60, 64, 67, 0.15);\n",
              "    fill: var(--button-hover-fill-color);\n",
              "  }\n",
              "\n",
              "  .colab-df-quickchart-complete:disabled,\n",
              "  .colab-df-quickchart-complete:disabled:hover {\n",
              "    background-color: var(--disabled-bg-color);\n",
              "    fill: var(--disabled-fill-color);\n",
              "    box-shadow: none;\n",
              "  }\n",
              "\n",
              "  .colab-df-spinner {\n",
              "    border: 2px solid var(--fill-color);\n",
              "    border-color: transparent;\n",
              "    border-bottom-color: var(--fill-color);\n",
              "    animation:\n",
              "      spin 1s steps(1) infinite;\n",
              "  }\n",
              "\n",
              "  @keyframes spin {\n",
              "    0% {\n",
              "      border-color: transparent;\n",
              "      border-bottom-color: var(--fill-color);\n",
              "      border-left-color: var(--fill-color);\n",
              "    }\n",
              "    20% {\n",
              "      border-color: transparent;\n",
              "      border-left-color: var(--fill-color);\n",
              "      border-top-color: var(--fill-color);\n",
              "    }\n",
              "    30% {\n",
              "      border-color: transparent;\n",
              "      border-left-color: var(--fill-color);\n",
              "      border-top-color: var(--fill-color);\n",
              "      border-right-color: var(--fill-color);\n",
              "    }\n",
              "    40% {\n",
              "      border-color: transparent;\n",
              "      border-right-color: var(--fill-color);\n",
              "      border-top-color: var(--fill-color);\n",
              "    }\n",
              "    60% {\n",
              "      border-color: transparent;\n",
              "      border-right-color: var(--fill-color);\n",
              "    }\n",
              "    80% {\n",
              "      border-color: transparent;\n",
              "      border-right-color: var(--fill-color);\n",
              "      border-bottom-color: var(--fill-color);\n",
              "    }\n",
              "    90% {\n",
              "      border-color: transparent;\n",
              "      border-bottom-color: var(--fill-color);\n",
              "    }\n",
              "  }\n",
              "</style>\n",
              "\n",
              "  <script>\n",
              "    async function quickchart(key) {\n",
              "      const quickchartButtonEl =\n",
              "        document.querySelector('#' + key + ' button');\n",
              "      quickchartButtonEl.disabled = true;  // To prevent multiple clicks.\n",
              "      quickchartButtonEl.classList.add('colab-df-spinner');\n",
              "      try {\n",
              "        const charts = await google.colab.kernel.invokeFunction(\n",
              "            'suggestCharts', [key], {});\n",
              "      } catch (error) {\n",
              "        console.error('Error during call to suggestCharts:', error);\n",
              "      }\n",
              "      quickchartButtonEl.classList.remove('colab-df-spinner');\n",
              "      quickchartButtonEl.classList.add('colab-df-quickchart-complete');\n",
              "    }\n",
              "    (() => {\n",
              "      let quickchartButtonEl =\n",
              "        document.querySelector('#df-1850167a-c753-41ab-ac25-893b2b60ea13 button');\n",
              "      quickchartButtonEl.style.display =\n",
              "        google.colab.kernel.accessAllowed ? 'block' : 'none';\n",
              "    })();\n",
              "  </script>\n",
              "</div>\n",
              "\n",
              "    </div>\n",
              "  </div>\n"
            ],
            "application/vnd.google.colaboratory.intrinsic+json": {
              "type": "dataframe",
              "summary": "{\n  \"name\": \"display(X\",\n  \"rows\": 5,\n  \"fields\": [\n    {\n      \"column\": \"payment_history\",\n      \"properties\": {\n        \"dtype\": \"number\",\n        \"std\": 1.6223439832538593,\n        \"min\": 7.4,\n        \"max\": 11.2,\n        \"num_unique_values\": 3,\n        \"samples\": [\n          7.4,\n          7.8,\n          11.2\n        ],\n        \"semantic_type\": \"\",\n        \"description\": \"\"\n      }\n    },\n    {\n      \"column\": \"location_parameter\",\n      \"properties\": {\n        \"dtype\": \"number\",\n        \"std\": 0.22689204481426842,\n        \"min\": 0.28,\n        \"max\": 0.88,\n        \"num_unique_values\": 4,\n        \"samples\": [\n          0.88,\n          0.28,\n          0.7\n        ],\n        \"semantic_type\": \"\",\n        \"description\": \"\"\n      }\n    },\n    {\n      \"column\": \"stem_degree_score\",\n      \"properties\": {\n        \"dtype\": \"number\",\n        \"std\": 0.24657656011875909,\n        \"min\": 0.0,\n        \"max\": 0.56,\n        \"num_unique_values\": 3,\n        \"samples\": [\n          0.0,\n          0.04,\n          0.56\n        ],\n        \"semantic_type\": \"\",\n        \"description\": \"\"\n      }\n    },\n    {\n      \"column\": \"gpa_ranking\",\n      \"properties\": {\n        \"dtype\": \"number\",\n        \"std\": 0.31937438845342636,\n        \"min\": 1.9,\n        \"max\": 2.6,\n        \"num_unique_values\": 3,\n        \"samples\": [\n          1.9,\n          2.6,\n          2.3\n        ],\n        \"semantic_type\": \"\",\n        \"description\": \"\"\n      }\n    },\n    {\n      \"column\": \"alumni_success\",\n      \"properties\": {\n        \"dtype\": \"number\",\n        \"std\": 0.010807404868885038,\n        \"min\": 0.075,\n        \"max\": 0.098,\n        \"num_unique_values\": 4,\n        \"samples\": [\n          0.098,\n          0.075,\n          0.076\n        ],\n        \"semantic_type\": \"\",\n        \"description\": \"\"\n      }\n    },\n    {\n      \"column\": \"study_major_code\",\n      \"properties\": {\n        \"dtype\": \"number\",\n        \"std\": 5.761944116355173,\n        \"min\": 11.0,\n        \"max\": 25.0,\n        \"num_unique_values\": 4,\n        \"samples\": [\n          25.0,\n          17.0,\n          11.0\n        ],\n        \"semantic_type\": \"\",\n        \"description\": \"\"\n      }\n    },\n    {\n      \"column\": \"time_to_completion\",\n      \"properties\": {\n        \"dtype\": \"number\",\n        \"std\": 15.139352694220449,\n        \"min\": 34.0,\n        \"max\": 67.0,\n        \"num_unique_values\": 4,\n        \"samples\": [\n          67.0,\n          60.0,\n          34.0\n        ],\n        \"semantic_type\": \"\",\n        \"description\": \"\"\n      }\n    },\n    {\n      \"column\": \"finance_workshop_score\",\n      \"properties\": {\n        \"dtype\": \"number\",\n        \"std\": 0.0005403702434442519,\n        \"min\": 0.9968,\n        \"max\": 0.998,\n        \"num_unique_values\": 4,\n        \"samples\": [\n          0.9968,\n          0.998,\n          0.9978\n        ],\n        \"semantic_type\": \"\",\n        \"description\": \"\"\n      }\n    },\n    {\n      \"column\": \"cohort_ranking\",\n      \"properties\": {\n        \"dtype\": \"number\",\n        \"std\": 0.16991174179555674,\n        \"min\": 3.16,\n        \"max\": 3.51,\n        \"num_unique_values\": 4,\n        \"samples\": [\n          3.2,\n          3.16,\n          3.51\n        ],\n        \"semantic_type\": \"\",\n        \"description\": \"\"\n      }\n    },\n    {\n      \"column\": \"total_loan_score\",\n      \"properties\": {\n        \"dtype\": \"number\",\n        \"std\": 0.05549774770204643,\n        \"min\": 0.56,\n        \"max\": 0.68,\n        \"num_unique_values\": 4,\n        \"samples\": [\n          0.68,\n          0.58,\n          0.56\n        ],\n        \"semantic_type\": \"\",\n        \"description\": \"\"\n      }\n    },\n    {\n      \"column\": \"financial_aid_score\",\n      \"properties\": {\n        \"dtype\": \"number\",\n        \"std\": 0.21908902300206665,\n        \"min\": 9.4,\n        \"max\": 9.8,\n        \"num_unique_values\": 2,\n        \"samples\": [\n          9.8,\n          9.4\n        ],\n        \"semantic_type\": \"\",\n        \"description\": \"\"\n      }\n    }\n  ]\n}"
            }
          },
          "metadata": {}
        }
      ],
      "source": [
        "# Define features set X by selecting all columns but credit_ranking\n",
        "X = loans_df.drop(\"credit_ranking\", axis=1)\n",
        "\n",
        "# Review the features DataFrame\n",
        "display(X.head())"
      ]
    },
    {
      "cell_type": "markdown",
      "metadata": {
        "id": "QmM9c-tj6q6z"
      },
      "source": [
        "### Step 3: Split the features and target sets into training and testing datasets.\n"
      ]
    },
    {
      "cell_type": "code",
      "execution_count": null,
      "metadata": {
        "id": "OD7xwU_96q6z",
        "colab": {
          "base_uri": "https://localhost:8080/"
        },
        "outputId": "3af19366-39bd-4e74-88f0-21343876f6c5"
      },
      "outputs": [
        {
          "output_type": "stream",
          "name": "stdout",
          "text": [
            "X_train shape: (1279, 11)\n",
            "X_test shape: (320, 11)\n",
            "y_train shape: (1279,)\n",
            "y_test shape: (320,)\n"
          ]
        }
      ],
      "source": [
        "# Split the preprocessed data into a training and testing dataset\n",
        "# Assign the function a random_state equal to 1\n",
        "X_train, X_test, y_train, y_test = train_test_split(X, y, test_size=0.2, random_state=1)\n",
        "\n",
        "\n",
        "print(\"X_train shape:\", X_train.shape)\n",
        "print(\"X_test shape:\", X_test.shape)\n",
        "print(\"y_train shape:\", y_train.shape)\n",
        "print(\"y_test shape:\", y_test.shape)"
      ]
    },
    {
      "cell_type": "markdown",
      "metadata": {
        "id": "G9i6DHY06q6z"
      },
      "source": [
        "### Step 4: Use scikit-learn's `StandardScaler` to scale the features data."
      ]
    },
    {
      "cell_type": "code",
      "execution_count": null,
      "metadata": {
        "id": "BzD3z20m6q6z",
        "colab": {
          "base_uri": "https://localhost:8080/"
        },
        "outputId": "2f436fd6-a6a2-4a4e-f2d0-5d962ec0cf50"
      },
      "outputs": [
        {
          "output_type": "stream",
          "name": "stdout",
          "text": [
            "X_train_scaled shape: (1279, 11)\n",
            "X_test_scaled shape: (320, 11)\n"
          ]
        }
      ],
      "source": [
        "# Create a StandardScaler instance\n",
        "scaler = StandardScaler()\n",
        "\n",
        "# Fit the scaler to the features training dataset\n",
        "X_train_scaled = scaler.fit_transform(X_train)\n",
        "\n",
        "\n",
        "# Fit the scaler to the features training dataset\n",
        "X_test_scaled = scaler.transform(X_test)\n",
        "\n",
        "print(\"X_train_scaled shape:\", X_train_scaled.shape)\n",
        "print(\"X_test_scaled shape:\", X_test_scaled.shape)"
      ]
    },
    {
      "cell_type": "markdown",
      "metadata": {
        "id": "CZzVDjba6q6z"
      },
      "source": [
        "---\n",
        "\n",
        "## Compile and Evaluate a Model Using a Neural Network"
      ]
    },
    {
      "cell_type": "markdown",
      "metadata": {
        "id": "m-pSux4Q6q60"
      },
      "source": [
        "### Step 1: Create a deep neural network by assigning the number of input features, the number of layers, and the number of neurons on each layer using Tensorflow’s Keras.\n",
        "\n",
        "> **Hint** You can start with a two-layer deep neural network model that uses the `relu` activation function for both layers.\n"
      ]
    },
    {
      "cell_type": "code",
      "execution_count": null,
      "metadata": {
        "colab": {
          "base_uri": "https://localhost:8080/"
        },
        "id": "t5C94FCd6q60",
        "outputId": "4bc25720-9938-4aba-b9d0-0892cc0a0ee3"
      },
      "outputs": [
        {
          "output_type": "stream",
          "name": "stdout",
          "text": [
            "Number of features: 11\n"
          ]
        }
      ],
      "source": [
        "# Define the the number of inputs (features) to the model\n",
        "input_nodes = len(X.columns)\n",
        "\n",
        "\n",
        "# Review the number of features\n",
        "print(\"Number of features:\", len(X.columns))"
      ]
    },
    {
      "cell_type": "code",
      "execution_count": null,
      "metadata": {
        "id": "c_KXDLkF6q60"
      },
      "outputs": [],
      "source": [
        "# Define the number of hidden nodes for the first hidden layer\n",
        "hidden_nodes_layer1 = 64\n",
        "\n",
        "# Define the number of hidden nodes for the second hidden layer\n",
        "hidden_nodes_layer2 = 32\n",
        "\n",
        "# Define the number of neurons in the output layer\n",
        "output_neurons = 1"
      ]
    },
    {
      "cell_type": "code",
      "execution_count": null,
      "metadata": {
        "id": "63UdFncw6q60"
      },
      "outputs": [],
      "source": [
        "# Create the Sequential model instance\n",
        "model = Sequential()\n",
        "\n",
        "# Add the first hidden layer\n",
        "model.add(Dense(hidden_nodes_layer1, input_shape=(input_nodes,), activation='relu'))\n",
        "\n",
        "\n",
        "# Add the second hidden layer\n",
        "model.add(Dense(hidden_nodes_layer2, activation='relu'))\n",
        "\n",
        "# Add the output layer to the model specifying the number of output neurons and activation function\n",
        "model.add(Dense(output_neurons, activation='sigmoid'))"
      ]
    },
    {
      "cell_type": "code",
      "execution_count": null,
      "metadata": {
        "colab": {
          "base_uri": "https://localhost:8080/"
        },
        "id": "-Beoh4f_6q61",
        "outputId": "33e0e82a-7e74-4157-b6ef-0d9908e880ef"
      },
      "outputs": [
        {
          "output_type": "stream",
          "name": "stdout",
          "text": [
            "Model: \"sequential\"\n",
            "_________________________________________________________________\n",
            " Layer (type)                Output Shape              Param #   \n",
            "=================================================================\n",
            " dense (Dense)               (None, 64)                768       \n",
            "                                                                 \n",
            " dense_1 (Dense)             (None, 32)                2080      \n",
            "                                                                 \n",
            " dense_2 (Dense)             (None, 1)                 33        \n",
            "                                                                 \n",
            "=================================================================\n",
            "Total params: 2881 (11.25 KB)\n",
            "Trainable params: 2881 (11.25 KB)\n",
            "Non-trainable params: 0 (0.00 Byte)\n",
            "_________________________________________________________________\n"
          ]
        }
      ],
      "source": [
        "# Display the Sequential model summary\n",
        "model.summary()"
      ]
    },
    {
      "cell_type": "markdown",
      "metadata": {
        "id": "nRqWGIRo6q61"
      },
      "source": [
        "### Step 2: Compile and fit the model using the `binary_crossentropy` loss function, the `adam` optimizer, and the `accuracy` evaluation metric.\n"
      ]
    },
    {
      "cell_type": "code",
      "execution_count": null,
      "metadata": {
        "id": "E-hZaeSn6q61"
      },
      "outputs": [],
      "source": [
        "# Compile the Sequential model\n",
        "model.compile(loss='binary_crossentropy', optimizer='adam', metrics=['accuracy'])"
      ]
    },
    {
      "cell_type": "code",
      "execution_count": null,
      "metadata": {
        "colab": {
          "base_uri": "https://localhost:8080/"
        },
        "id": "x25e8Idc6q61",
        "outputId": "6ff1f2f0-7e42-4e5e-c59e-d135cd8d3273"
      },
      "outputs": [
        {
          "output_type": "stream",
          "name": "stdout",
          "text": [
            "Epoch 1/50\n",
            "40/40 [==============================] - 1s 9ms/step - loss: 0.6151 - accuracy: 0.6896 - val_loss: 0.5507 - val_accuracy: 0.7531\n",
            "Epoch 2/50\n",
            "40/40 [==============================] - 0s 3ms/step - loss: 0.5365 - accuracy: 0.7342 - val_loss: 0.5130 - val_accuracy: 0.7469\n",
            "Epoch 3/50\n",
            "40/40 [==============================] - 0s 3ms/step - loss: 0.5149 - accuracy: 0.7490 - val_loss: 0.5091 - val_accuracy: 0.7469\n",
            "Epoch 4/50\n",
            "40/40 [==============================] - 0s 3ms/step - loss: 0.5075 - accuracy: 0.7561 - val_loss: 0.5061 - val_accuracy: 0.7500\n",
            "Epoch 5/50\n",
            "40/40 [==============================] - 0s 3ms/step - loss: 0.4984 - accuracy: 0.7553 - val_loss: 0.5040 - val_accuracy: 0.7375\n",
            "Epoch 6/50\n",
            "40/40 [==============================] - 0s 3ms/step - loss: 0.4928 - accuracy: 0.7615 - val_loss: 0.5074 - val_accuracy: 0.7344\n",
            "Epoch 7/50\n",
            "40/40 [==============================] - 0s 3ms/step - loss: 0.4885 - accuracy: 0.7670 - val_loss: 0.5033 - val_accuracy: 0.7344\n",
            "Epoch 8/50\n",
            "40/40 [==============================] - 0s 3ms/step - loss: 0.4821 - accuracy: 0.7615 - val_loss: 0.5018 - val_accuracy: 0.7437\n",
            "Epoch 9/50\n",
            "40/40 [==============================] - 0s 6ms/step - loss: 0.4751 - accuracy: 0.7733 - val_loss: 0.5035 - val_accuracy: 0.7375\n",
            "Epoch 10/50\n",
            "40/40 [==============================] - 0s 9ms/step - loss: 0.4716 - accuracy: 0.7811 - val_loss: 0.5017 - val_accuracy: 0.7531\n",
            "Epoch 11/50\n",
            "40/40 [==============================] - 0s 3ms/step - loss: 0.4700 - accuracy: 0.7780 - val_loss: 0.5049 - val_accuracy: 0.7500\n",
            "Epoch 12/50\n",
            "40/40 [==============================] - 0s 3ms/step - loss: 0.4638 - accuracy: 0.7780 - val_loss: 0.5030 - val_accuracy: 0.7531\n",
            "Epoch 13/50\n",
            "40/40 [==============================] - 0s 3ms/step - loss: 0.4605 - accuracy: 0.7819 - val_loss: 0.5063 - val_accuracy: 0.7281\n",
            "Epoch 14/50\n",
            "40/40 [==============================] - 0s 3ms/step - loss: 0.4560 - accuracy: 0.7834 - val_loss: 0.5076 - val_accuracy: 0.7500\n",
            "Epoch 15/50\n",
            "40/40 [==============================] - 0s 3ms/step - loss: 0.4524 - accuracy: 0.7873 - val_loss: 0.5055 - val_accuracy: 0.7500\n",
            "Epoch 16/50\n",
            "40/40 [==============================] - 0s 3ms/step - loss: 0.4496 - accuracy: 0.7967 - val_loss: 0.5042 - val_accuracy: 0.7625\n",
            "Epoch 17/50\n",
            "40/40 [==============================] - 0s 3ms/step - loss: 0.4460 - accuracy: 0.7944 - val_loss: 0.5079 - val_accuracy: 0.7500\n",
            "Epoch 18/50\n",
            "40/40 [==============================] - 0s 3ms/step - loss: 0.4413 - accuracy: 0.7959 - val_loss: 0.5068 - val_accuracy: 0.7594\n",
            "Epoch 19/50\n",
            "40/40 [==============================] - 0s 3ms/step - loss: 0.4382 - accuracy: 0.8022 - val_loss: 0.5088 - val_accuracy: 0.7469\n",
            "Epoch 20/50\n",
            "40/40 [==============================] - 0s 3ms/step - loss: 0.4351 - accuracy: 0.8014 - val_loss: 0.5087 - val_accuracy: 0.7437\n",
            "Epoch 21/50\n",
            "40/40 [==============================] - 0s 3ms/step - loss: 0.4293 - accuracy: 0.8038 - val_loss: 0.5112 - val_accuracy: 0.7469\n",
            "Epoch 22/50\n",
            "40/40 [==============================] - 0s 3ms/step - loss: 0.4284 - accuracy: 0.8077 - val_loss: 0.5089 - val_accuracy: 0.7563\n",
            "Epoch 23/50\n",
            "40/40 [==============================] - 0s 3ms/step - loss: 0.4231 - accuracy: 0.8124 - val_loss: 0.5094 - val_accuracy: 0.7563\n",
            "Epoch 24/50\n",
            "40/40 [==============================] - 0s 3ms/step - loss: 0.4216 - accuracy: 0.8092 - val_loss: 0.5147 - val_accuracy: 0.7719\n",
            "Epoch 25/50\n",
            "40/40 [==============================] - 0s 3ms/step - loss: 0.4158 - accuracy: 0.8178 - val_loss: 0.5159 - val_accuracy: 0.7594\n",
            "Epoch 26/50\n",
            "40/40 [==============================] - 0s 4ms/step - loss: 0.4146 - accuracy: 0.8202 - val_loss: 0.5157 - val_accuracy: 0.7375\n",
            "Epoch 27/50\n",
            "40/40 [==============================] - 0s 3ms/step - loss: 0.4125 - accuracy: 0.8163 - val_loss: 0.5225 - val_accuracy: 0.7594\n",
            "Epoch 28/50\n",
            "40/40 [==============================] - 0s 3ms/step - loss: 0.4091 - accuracy: 0.8131 - val_loss: 0.5184 - val_accuracy: 0.7437\n",
            "Epoch 29/50\n",
            "40/40 [==============================] - 0s 3ms/step - loss: 0.4052 - accuracy: 0.8225 - val_loss: 0.5206 - val_accuracy: 0.7594\n",
            "Epoch 30/50\n",
            "40/40 [==============================] - 0s 3ms/step - loss: 0.4002 - accuracy: 0.8163 - val_loss: 0.5242 - val_accuracy: 0.7563\n",
            "Epoch 31/50\n",
            "40/40 [==============================] - 0s 3ms/step - loss: 0.3963 - accuracy: 0.8264 - val_loss: 0.5215 - val_accuracy: 0.7750\n",
            "Epoch 32/50\n",
            "40/40 [==============================] - 0s 3ms/step - loss: 0.3933 - accuracy: 0.8233 - val_loss: 0.5219 - val_accuracy: 0.7437\n",
            "Epoch 33/50\n",
            "40/40 [==============================] - 0s 3ms/step - loss: 0.3909 - accuracy: 0.8217 - val_loss: 0.5205 - val_accuracy: 0.7563\n",
            "Epoch 34/50\n",
            "40/40 [==============================] - 0s 4ms/step - loss: 0.3865 - accuracy: 0.8280 - val_loss: 0.5271 - val_accuracy: 0.7375\n",
            "Epoch 35/50\n",
            "40/40 [==============================] - 0s 4ms/step - loss: 0.3846 - accuracy: 0.8264 - val_loss: 0.5239 - val_accuracy: 0.7594\n",
            "Epoch 36/50\n",
            "40/40 [==============================] - 0s 4ms/step - loss: 0.3810 - accuracy: 0.8225 - val_loss: 0.5231 - val_accuracy: 0.7563\n",
            "Epoch 37/50\n",
            "40/40 [==============================] - 0s 5ms/step - loss: 0.3766 - accuracy: 0.8288 - val_loss: 0.5252 - val_accuracy: 0.7406\n",
            "Epoch 38/50\n",
            "40/40 [==============================] - 0s 4ms/step - loss: 0.3773 - accuracy: 0.8280 - val_loss: 0.5247 - val_accuracy: 0.7500\n",
            "Epoch 39/50\n",
            "40/40 [==============================] - 0s 4ms/step - loss: 0.3697 - accuracy: 0.8350 - val_loss: 0.5317 - val_accuracy: 0.7719\n",
            "Epoch 40/50\n",
            "40/40 [==============================] - 0s 4ms/step - loss: 0.3709 - accuracy: 0.8256 - val_loss: 0.5362 - val_accuracy: 0.7406\n",
            "Epoch 41/50\n",
            "40/40 [==============================] - 0s 4ms/step - loss: 0.3686 - accuracy: 0.8319 - val_loss: 0.5331 - val_accuracy: 0.7500\n",
            "Epoch 42/50\n",
            "40/40 [==============================] - 0s 5ms/step - loss: 0.3614 - accuracy: 0.8272 - val_loss: 0.5406 - val_accuracy: 0.7625\n",
            "Epoch 43/50\n",
            "40/40 [==============================] - 0s 6ms/step - loss: 0.3624 - accuracy: 0.8296 - val_loss: 0.5367 - val_accuracy: 0.7437\n",
            "Epoch 44/50\n",
            "40/40 [==============================] - 0s 4ms/step - loss: 0.3608 - accuracy: 0.8366 - val_loss: 0.5455 - val_accuracy: 0.7344\n",
            "Epoch 45/50\n",
            "40/40 [==============================] - 0s 5ms/step - loss: 0.3533 - accuracy: 0.8436 - val_loss: 0.5331 - val_accuracy: 0.7437\n",
            "Epoch 46/50\n",
            "40/40 [==============================] - 0s 5ms/step - loss: 0.3517 - accuracy: 0.8397 - val_loss: 0.5371 - val_accuracy: 0.7500\n",
            "Epoch 47/50\n",
            "40/40 [==============================] - 0s 5ms/step - loss: 0.3490 - accuracy: 0.8436 - val_loss: 0.5332 - val_accuracy: 0.7469\n",
            "Epoch 48/50\n",
            "40/40 [==============================] - 0s 3ms/step - loss: 0.3475 - accuracy: 0.8468 - val_loss: 0.5399 - val_accuracy: 0.7594\n",
            "Epoch 49/50\n",
            "40/40 [==============================] - 0s 3ms/step - loss: 0.3477 - accuracy: 0.8382 - val_loss: 0.5408 - val_accuracy: 0.7531\n",
            "Epoch 50/50\n",
            "40/40 [==============================] - 0s 3ms/step - loss: 0.3418 - accuracy: 0.8382 - val_loss: 0.5365 - val_accuracy: 0.7375\n"
          ]
        }
      ],
      "source": [
        "# Fit the model using 50 epochs and the training data\n",
        "history = model.fit(X_train_scaled, y_train, epochs=50, batch_size=32, validation_data=(X_test_scaled, y_test))"
      ]
    },
    {
      "cell_type": "markdown",
      "metadata": {
        "id": "RfHMPZVI6q61"
      },
      "source": [
        "### Step 3: Evaluate the model using the test data to determine the model’s loss and accuracy.\n"
      ]
    },
    {
      "cell_type": "code",
      "execution_count": null,
      "metadata": {
        "colab": {
          "base_uri": "https://localhost:8080/",
          "height": 53
        },
        "id": "5hfVADKo6q61",
        "outputId": "9cf6adce-9ed9-4f23-d891-c2c0c01c8cd6"
      },
      "outputs": [
        {
          "output_type": "stream",
          "name": "stdout",
          "text": [
            "10/10 [==============================] - 0s 2ms/step - loss: 0.5365 - accuracy: 0.7375\n"
          ]
        },
        {
          "output_type": "display_data",
          "data": {
            "text/plain": [
              "'Loss: 0.5365234613418579, Accuracy: 0.737500011920929'"
            ],
            "application/vnd.google.colaboratory.intrinsic+json": {
              "type": "string"
            }
          },
          "metadata": {}
        }
      ],
      "source": [
        "# Evaluate the model loss and accuracy metrics using the evaluate method and the test data\n",
        "loss, accuracy = model.evaluate(X_test_scaled, y_test)\n",
        "\n",
        "# Display the model loss and accuracy results\n",
        "display(f'Loss: {loss}, Accuracy: {accuracy}')"
      ]
    },
    {
      "cell_type": "markdown",
      "metadata": {
        "id": "jpAv0rXA6q61"
      },
      "source": [
        "### Step 4: Save and export your model to a keras file, and name the file `student_loans.keras`.\n"
      ]
    },
    {
      "cell_type": "code",
      "execution_count": null,
      "metadata": {
        "id": "q0MetN0W6q61"
      },
      "outputs": [],
      "source": [
        "# Set the model's file path\n",
        "path = Path(\"./Final_student_loans_with_deep_learning.keras\")\n",
        "\n",
        "# Export your model to a keras file\n",
        "model.save(path)"
      ]
    },
    {
      "cell_type": "markdown",
      "metadata": {
        "id": "R1opCDdN6q61"
      },
      "source": [
        "---\n",
        "## Predict Loan Repayment Success by Using your Neural Network Model"
      ]
    },
    {
      "cell_type": "markdown",
      "metadata": {
        "id": "TfIfpeiy6q61"
      },
      "source": [
        "### Step 1: Reload your saved model."
      ]
    },
    {
      "cell_type": "code",
      "execution_count": null,
      "metadata": {
        "id": "OCET2mvW6q61"
      },
      "outputs": [],
      "source": [
        "# Set the model's file path\n",
        "file_path = Path(\"./Final_student_loans_with_deep_learning.keras\")\n",
        "\n",
        "# Load the model to a new object\n",
        "model_imported = tf.keras.models.load_model(file_path)"
      ]
    },
    {
      "cell_type": "markdown",
      "metadata": {
        "id": "rTPKooGw6q61"
      },
      "source": [
        "### Step 2: Make predictions on the testing data and save the predictions to a DataFrame."
      ]
    },
    {
      "cell_type": "code",
      "execution_count": null,
      "metadata": {
        "colab": {
          "base_uri": "https://localhost:8080/"
        },
        "id": "Vet7qjgx6q62",
        "outputId": "bbfb16d8-5146-41a4-894d-e45fb7627539"
      },
      "outputs": [
        {
          "output_type": "stream",
          "name": "stdout",
          "text": [
            "10/10 [==============================] - 0s 2ms/step\n"
          ]
        },
        {
          "output_type": "execute_result",
          "data": {
            "text/plain": [
              "array([[0.05931628],\n",
              "       [0.4283662 ],\n",
              "       [0.96215665],\n",
              "       [0.6421049 ],\n",
              "       [0.97856176],\n",
              "       [0.9190523 ],\n",
              "       [0.9833526 ],\n",
              "       [0.00526523],\n",
              "       [0.66113985],\n",
              "       [0.2197961 ],\n",
              "       [0.9704813 ],\n",
              "       [0.10153238],\n",
              "       [0.5139759 ],\n",
              "       [0.9191501 ],\n",
              "       [0.83963203],\n",
              "       [0.4815965 ],\n",
              "       [0.89045537],\n",
              "       [0.24871795],\n",
              "       [0.75327015],\n",
              "       [0.46182626],\n",
              "       [0.49217606],\n",
              "       [0.8992097 ],\n",
              "       [0.19132084],\n",
              "       [0.9719137 ],\n",
              "       [0.23477529],\n",
              "       [0.9666504 ],\n",
              "       [0.8722895 ],\n",
              "       [0.4500212 ],\n",
              "       [0.17541823],\n",
              "       [0.7892805 ],\n",
              "       [0.60026276],\n",
              "       [0.9971333 ],\n",
              "       [0.11818022],\n",
              "       [0.9825868 ],\n",
              "       [0.13484614],\n",
              "       [0.45219275],\n",
              "       [0.14274968],\n",
              "       [0.531669  ],\n",
              "       [0.9678026 ],\n",
              "       [0.0510402 ],\n",
              "       [0.9777976 ],\n",
              "       [0.04672321],\n",
              "       [0.04553734],\n",
              "       [0.9322078 ],\n",
              "       [0.09257209],\n",
              "       [0.78644884],\n",
              "       [0.109     ],\n",
              "       [0.33980182],\n",
              "       [0.15634565],\n",
              "       [0.834554  ],\n",
              "       [0.00620599],\n",
              "       [0.02235101],\n",
              "       [0.9661695 ],\n",
              "       [0.03984889],\n",
              "       [0.07747195],\n",
              "       [0.35413483],\n",
              "       [0.8990442 ],\n",
              "       [0.9068012 ],\n",
              "       [0.9977468 ],\n",
              "       [0.27245083],\n",
              "       [0.87474245],\n",
              "       [0.05253352],\n",
              "       [0.25359672],\n",
              "       [0.13021825],\n",
              "       [0.01003063],\n",
              "       [0.09957957],\n",
              "       [0.9881211 ],\n",
              "       [0.7326856 ],\n",
              "       [0.5734887 ],\n",
              "       [0.9984268 ],\n",
              "       [0.13484614],\n",
              "       [0.90813416],\n",
              "       [0.6785226 ],\n",
              "       [0.8636564 ],\n",
              "       [0.06994452],\n",
              "       [0.27824426],\n",
              "       [0.98935497],\n",
              "       [0.04225416],\n",
              "       [0.03310367],\n",
              "       [0.8631104 ],\n",
              "       [0.7770952 ],\n",
              "       [0.06526619],\n",
              "       [0.06744613],\n",
              "       [0.4239132 ],\n",
              "       [0.8737125 ],\n",
              "       [0.07334981],\n",
              "       [0.06225665],\n",
              "       [0.89292514],\n",
              "       [0.25506702],\n",
              "       [0.7977139 ],\n",
              "       [0.03190165],\n",
              "       [0.96549827],\n",
              "       [0.2847798 ],\n",
              "       [0.9868537 ],\n",
              "       [0.8314997 ],\n",
              "       [0.20994067],\n",
              "       [0.9823039 ],\n",
              "       [0.69949967],\n",
              "       [0.57193214],\n",
              "       [0.7382685 ],\n",
              "       [0.5482988 ],\n",
              "       [0.13645135],\n",
              "       [0.3944258 ],\n",
              "       [0.04121548],\n",
              "       [0.03107205],\n",
              "       [0.5146402 ],\n",
              "       [0.76921004],\n",
              "       [0.7373259 ],\n",
              "       [0.76656973],\n",
              "       [0.37494403],\n",
              "       [0.9996549 ],\n",
              "       [0.6416127 ],\n",
              "       [0.6904118 ],\n",
              "       [0.47194302],\n",
              "       [0.22330466],\n",
              "       [0.9946916 ],\n",
              "       [0.10311189],\n",
              "       [0.06048679],\n",
              "       [0.19279748],\n",
              "       [0.07468157],\n",
              "       [0.0545912 ],\n",
              "       [0.9966527 ],\n",
              "       [0.8811992 ],\n",
              "       [0.04893225],\n",
              "       [0.5027234 ],\n",
              "       [0.25735605],\n",
              "       [0.95691824],\n",
              "       [0.32025278],\n",
              "       [0.39994875],\n",
              "       [0.8679032 ],\n",
              "       [0.2553057 ],\n",
              "       [0.13695465],\n",
              "       [0.9765564 ],\n",
              "       [0.22843246],\n",
              "       [0.85863924],\n",
              "       [0.8867107 ],\n",
              "       [0.11083139],\n",
              "       [0.9931648 ],\n",
              "       [0.4878949 ],\n",
              "       [0.567665  ],\n",
              "       [0.17536806],\n",
              "       [0.76754326],\n",
              "       [0.39716202],\n",
              "       [0.06711529],\n",
              "       [0.7231964 ],\n",
              "       [0.97086465],\n",
              "       [0.36022985],\n",
              "       [0.09435195],\n",
              "       [0.81274015],\n",
              "       [0.9148898 ],\n",
              "       [0.48342812],\n",
              "       [0.95772374],\n",
              "       [0.11351141],\n",
              "       [0.44078285],\n",
              "       [0.9501106 ],\n",
              "       [0.97504586],\n",
              "       [0.97570634],\n",
              "       [0.97925144],\n",
              "       [0.78012985],\n",
              "       [0.69917494],\n",
              "       [0.90501   ],\n",
              "       [0.42371583],\n",
              "       [0.11015271],\n",
              "       [0.05418476],\n",
              "       [0.9897683 ],\n",
              "       [0.92852974],\n",
              "       [0.25783762],\n",
              "       [0.0372345 ],\n",
              "       [0.01940746],\n",
              "       [0.83824956],\n",
              "       [0.59155166],\n",
              "       [0.7102293 ],\n",
              "       [0.4414298 ],\n",
              "       [0.34497228],\n",
              "       [0.96800536],\n",
              "       [0.4417511 ],\n",
              "       [0.2233692 ],\n",
              "       [0.30083603],\n",
              "       [0.3283329 ],\n",
              "       [0.20994072],\n",
              "       [0.76918024],\n",
              "       [0.9079463 ],\n",
              "       [0.6526866 ],\n",
              "       [0.13282317],\n",
              "       [0.9540462 ],\n",
              "       [0.99634683],\n",
              "       [0.955638  ],\n",
              "       [0.33636987],\n",
              "       [0.0879855 ],\n",
              "       [0.06526713],\n",
              "       [0.4948384 ],\n",
              "       [0.4612894 ],\n",
              "       [0.7369541 ],\n",
              "       [0.5732965 ],\n",
              "       [0.75270194],\n",
              "       [0.30131567],\n",
              "       [0.7503823 ],\n",
              "       [0.22615248],\n",
              "       [0.14268352],\n",
              "       [0.2976614 ],\n",
              "       [0.95736796],\n",
              "       [0.48633558],\n",
              "       [0.94895804],\n",
              "       [0.164513  ],\n",
              "       [0.9964466 ],\n",
              "       [0.91768014],\n",
              "       [0.11952667],\n",
              "       [0.10341972],\n",
              "       [0.9193703 ],\n",
              "       [0.88505036],\n",
              "       [0.32646698],\n",
              "       [0.72064954],\n",
              "       [0.3944258 ],\n",
              "       [0.9854606 ],\n",
              "       [0.09682488],\n",
              "       [0.40884903],\n",
              "       [0.04522386],\n",
              "       [0.01373321],\n",
              "       [0.93275565],\n",
              "       [0.5841498 ],\n",
              "       [0.1920376 ],\n",
              "       [0.20139116],\n",
              "       [0.76635945],\n",
              "       [0.14219484],\n",
              "       [0.8809246 ],\n",
              "       [0.76771706],\n",
              "       [0.33321136],\n",
              "       [0.79020685],\n",
              "       [0.99660975],\n",
              "       [0.40355745],\n",
              "       [0.11134967],\n",
              "       [0.28766075],\n",
              "       [0.9758926 ],\n",
              "       [0.984189  ],\n",
              "       [0.04671507],\n",
              "       [0.37347457],\n",
              "       [0.958172  ],\n",
              "       [0.18750742],\n",
              "       [0.15874241],\n",
              "       [0.23566803],\n",
              "       [0.90975523],\n",
              "       [0.95713264],\n",
              "       [0.90901566],\n",
              "       [0.57385623],\n",
              "       [0.46658906],\n",
              "       [0.99848276],\n",
              "       [0.64997745],\n",
              "       [0.15777251],\n",
              "       [0.24471039],\n",
              "       [0.31182557],\n",
              "       [0.15005986],\n",
              "       [0.1342184 ],\n",
              "       [0.99870735],\n",
              "       [0.87265074],\n",
              "       [0.9926716 ],\n",
              "       [0.44325188],\n",
              "       [0.06013449],\n",
              "       [0.12781703],\n",
              "       [0.02906547],\n",
              "       [0.7088819 ],\n",
              "       [0.94564956],\n",
              "       [0.33920822],\n",
              "       [0.8265673 ],\n",
              "       [0.51083726],\n",
              "       [0.19939198],\n",
              "       [0.81274015],\n",
              "       [0.8861624 ],\n",
              "       [0.17270468],\n",
              "       [0.21144027],\n",
              "       [0.85124445],\n",
              "       [0.06441646],\n",
              "       [0.72690195],\n",
              "       [0.19766591],\n",
              "       [0.9908272 ],\n",
              "       [0.29214057],\n",
              "       [0.5733079 ],\n",
              "       [0.51750326],\n",
              "       [0.7102293 ],\n",
              "       [0.33021694],\n",
              "       [0.41580227],\n",
              "       [0.9949916 ],\n",
              "       [0.25366613],\n",
              "       [0.37135983],\n",
              "       [0.04295044],\n",
              "       [0.2274116 ],\n",
              "       [0.44888175],\n",
              "       [0.6445482 ],\n",
              "       [0.03056139],\n",
              "       [0.09847613],\n",
              "       [0.732485  ],\n",
              "       [0.49122503],\n",
              "       [0.89045537],\n",
              "       [0.8471659 ],\n",
              "       [0.6403247 ],\n",
              "       [0.99724865],\n",
              "       [0.9359293 ],\n",
              "       [0.11401202],\n",
              "       [0.9722583 ],\n",
              "       [0.23051006],\n",
              "       [0.0319095 ],\n",
              "       [0.26887637],\n",
              "       [0.69590884],\n",
              "       [0.11183298],\n",
              "       [0.78092104],\n",
              "       [0.19552284],\n",
              "       [0.69903505],\n",
              "       [0.12118536],\n",
              "       [0.9559377 ],\n",
              "       [0.58637756],\n",
              "       [0.01938667],\n",
              "       [0.03101588],\n",
              "       [0.6223945 ],\n",
              "       [0.12173265],\n",
              "       [0.9357421 ],\n",
              "       [0.60016865],\n",
              "       [0.78829414],\n",
              "       [0.11583318],\n",
              "       [0.14003782],\n",
              "       [0.9931831 ],\n",
              "       [0.958172  ]], dtype=float32)"
            ]
          },
          "metadata": {},
          "execution_count": 18
        }
      ],
      "source": [
        "# Make predictions with the test data\n",
        "predictions = model_imported.predict(X_test_scaled)\n",
        "\n",
        "# Display a sample of the predictions\n",
        "predictions"
      ]
    },
    {
      "cell_type": "code",
      "execution_count": null,
      "metadata": {
        "colab": {
          "base_uri": "https://localhost:8080/"
        },
        "id": "87o8exFPhjfl",
        "outputId": "b531e2d1-6ca0-42f3-cc19-5c911b4543cf"
      },
      "outputs": [
        {
          "output_type": "stream",
          "name": "stdout",
          "text": [
            "     Predictions\n",
            "0              0\n",
            "1              0\n",
            "2              1\n",
            "3              1\n",
            "4              1\n",
            "..           ...\n",
            "315            1\n",
            "316            0\n",
            "317            0\n",
            "318            1\n",
            "319            1\n",
            "\n",
            "[320 rows x 1 columns]\n"
          ]
        }
      ],
      "source": [
        "# Save the predictions to a DataFrame and round the predictions to binary results\n",
        "binary_predictions = (predictions > 0.5).astype(int)\n",
        "\n",
        "# Create a DataFrame with the predictions\n",
        "predictions_df = pd.DataFrame(binary_predictions, columns=['Predictions'])\n",
        "\n",
        "# Display the DataFrame\n",
        "print(predictions_df)"
      ]
    },
    {
      "cell_type": "markdown",
      "metadata": {
        "id": "oxxLwycg6q62"
      },
      "source": [
        "### Step 4: Display a classification report with the y test data and predictions"
      ]
    },
    {
      "cell_type": "code",
      "execution_count": null,
      "metadata": {
        "colab": {
          "base_uri": "https://localhost:8080/"
        },
        "id": "UTxYZibW6q67",
        "outputId": "71a0e40a-6b0a-4b3e-8c48-a0ea6cdd5f8d"
      },
      "outputs": [
        {
          "output_type": "stream",
          "name": "stdout",
          "text": [
            "              precision    recall  f1-score   support\n",
            "\n",
            "           0       0.72      0.75      0.73       154\n",
            "           1       0.76      0.72      0.74       166\n",
            "\n",
            "    accuracy                           0.74       320\n",
            "   macro avg       0.74      0.74      0.74       320\n",
            "weighted avg       0.74      0.74      0.74       320\n",
            "\n"
          ]
        }
      ],
      "source": [
        "# Print the classification report with the y test data and predictions\n",
        "y_test_binary = (y_test > 0.5).astype(int)\n",
        "\n",
        "# Print the classification report\n",
        "print(classification_report(y_test_binary, binary_predictions))"
      ]
    },
    {
      "cell_type": "markdown",
      "metadata": {
        "id": "8Aaof1tBtcp6"
      },
      "source": [
        "---\n",
        "## Discuss creating a recommendation system for student loans"
      ]
    },
    {
      "cell_type": "markdown",
      "metadata": {
        "id": "_CC8cNpNtcp6"
      },
      "source": [
        "Briefly answer the following questions in the space provided:\n",
        "\n",
        "1. Describe the data that you would need to collect to build a recommendation system to recommend student loan options for students. Explain why this data would be relevant and appropriate.\n",
        "\n",
        "2. Based on the data you chose to use in this recommendation system, would your model be using collaborative filtering, content-based filtering, or context-based filtering? Justify why the data you selected would be suitable for your choice of filtering method.\n",
        "\n",
        "3. Describe two real-world challenges that you would take into consideration while building a recommendation system for student loans. Explain why these challenges would be of concern for a student loan recommendation system."
      ]
    },
    {
      "cell_type": "markdown",
      "metadata": {
        "id": "5KqIT8kYtcp6"
      },
      "source": [
        "**1. Describe the data that you would need to collect to build a recommendation system to recommend student loan options for students. Explain why this data would be relevant and appropriate.**\n",
        "a. Label - Does student repay loan or not\n",
        "\n",
        "b. Features/Predictors:\n",
        "\n",
        "Income level: Students with more money can repay their loans more quickly.\n",
        "\n",
        "College degree: Students who majored in high earning professions can more easily repay loans compared to students in low paying professions.\n",
        "\n",
        "Credit score: Does the person/student pay off their credit card debt? A higher score may indicate that a student will pay off their debt and sooner.\n",
        "\n",
        "Terms of the student loan: Higher interest rated are harder to pay back versus lower interest rates.\n",
        "\n",
        "Financial aid: How much financial aid did the student receive? It is harder to pay off more debt.\n",
        "\n",
        "Family and relationship status: A student with dependents may have extra expenses.\n",
        "\n",
        "**2. Based on the data you chose to use in this recommendation system, would your model be using collaborative filtering, content-based filtering, or context-based filtering? Justify why the data you selected would be suitable for your choice of filtering method.**\n",
        "a. Content-based filtering b. These are objective scores/data versus preference-based or reliant on others who may be similar to the person/student. They are features or attributes used for prediction.\n",
        "\n",
        "**3. Describe two real-world challenges that you would take into consideration while building a recommendation system for student loans. Explain why these challenges would be of concern for a student loan recommendation system.**\n",
        "a. College degrees are not valued as highly as they used to be due in part to massive student debt and changing of societal values. I would like a control group of non-students who did not graduate or go to school who went into the same profession as those who did graduate. This would help me distinguish between professions wherein student loans can ultimately payoff versus professions where they are a waste/burden.\n",
        "\n",
        "b. Was the education on or off-campus or both? Perhaps lower interest rates are more appealing to students who are present on campus to offset the drawbacks of the total expense. They may also be investing more money into the university through other means such as room and board.\n"
      ]
    }
  ],
  "metadata": {
    "colab": {
      "provenance": []
    },
    "kernelspec": {
      "display_name": "Python 3 (ipykernel)",
      "language": "python",
      "name": "python3"
    },
    "language_info": {
      "codemirror_mode": {
        "name": "ipython",
        "version": 3
      },
      "file_extension": ".py",
      "mimetype": "text/x-python",
      "name": "python",
      "nbconvert_exporter": "python",
      "pygments_lexer": "ipython3",
      "version": "3.10.10"
    }
  },
  "nbformat": 4,
  "nbformat_minor": 0
}